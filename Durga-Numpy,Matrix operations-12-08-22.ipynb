{
 "cells": [
  {
   "cell_type": "markdown",
   "id": "2a68027e",
   "metadata": {},
   "source": [
    "# 4)ARRAYOPERATIONS"
   ]
  },
  {
   "cell_type": "code",
   "execution_count": 5,
   "id": "b04bc3ba",
   "metadata": {},
   "outputs": [
    {
     "name": "stdout",
     "output_type": "stream",
     "text": [
      "The array is: [ 1  2  3  4  5  6  7  8  9 10 11 12 13 14]\n",
      "The array size is: 14\n",
      "The updated array is: [ 1  2  3  4  5  6  7  8 99 10 11 12 13 14]\n",
      "Reverse array: [14 13 12 11 10 99  8  7  6  5  4  3  2  1]\n",
      "The array as a 7*2 matrix is: [[ 1  2]\n",
      " [ 3  4]\n",
      " [ 5  6]\n",
      " [ 7  8]\n",
      " [99 10]\n",
      " [11 12]\n",
      " [13 14]]\n"
     ]
    }
   ],
   "source": [
    "import numpy as np\n",
    "array1=np.arange(1,15)\n",
    "print(\"The array is:\",array1)\n",
    "print(\"The array size is:\",array1.size)\n",
    "array1[8]=99\n",
    "print(\"The updated array is:\",array1)\n",
    "print(\"Reverse array:\",array1[::-1])\n",
    "\n",
    "print(\"The array as a 7*2 matrix is:\",array1.reshape(7,2))\n",
    "\n"
   ]
  },
  {
   "cell_type": "markdown",
   "id": "cf8a05d0",
   "metadata": {},
   "source": [
    "# 5) matrix  shape,type and datatype"
   ]
  },
  {
   "cell_type": "code",
   "execution_count": 10,
   "id": "c8c66bcd",
   "metadata": {},
   "outputs": [
    {
     "name": "stdout",
     "output_type": "stream",
     "text": [
      "5*4 matrix :\n",
      " [[12 13 14 15]\n",
      " [16 17 18 19]\n",
      " [20 21 22 23]\n",
      " [24 25 26 27]\n",
      " [28 29 30 31]]\n",
      "Matrix type: <class 'numpy.ndarray'>\n",
      "Matrix datatype: int64\n"
     ]
    }
   ],
   "source": [
    "import numpy as np\n",
    "\n",
    "array2=np.arange(12,32)\n",
    "array3=array2.reshape(5,4)\n",
    "print(\"5*4 matrix :\\n\",array3)\n",
    "print(\"Matrix type:\",type(array3))\n",
    "print(\"Matrix datatype:\",array3.dtype)"
   ]
  },
  {
   "cell_type": "markdown",
   "id": "603005c0",
   "metadata": {},
   "source": [
    "# 6) CHECKBOARD PATTERN"
   ]
  },
  {
   "cell_type": "code",
   "execution_count": 13,
   "id": "46925825",
   "metadata": {},
   "outputs": [
    {
     "name": "stdout",
     "output_type": "stream",
     "text": [
      "[[0 1 0 1 0 1 0 1]\n",
      " [1 0 1 0 1 0 1 0]\n",
      " [0 1 0 1 0 1 0 1]\n",
      " [1 0 1 0 1 0 1 0]\n",
      " [0 1 0 1 0 1 0 1]\n",
      " [1 0 1 0 1 0 1 0]\n",
      " [0 1 0 1 0 1 0 1]\n",
      " [1 0 1 0 1 0 1 0]]\n"
     ]
    }
   ],
   "source": [
    "import numpy as np\n",
    "arr1=np.zeros((8,8),dtype=int)\n",
    "arr1[::2,1::2]=1\n",
    "arr1[1::2,::2]=1\n",
    "print(arr1)"
   ]
  },
  {
   "cell_type": "markdown",
   "id": "1123eef1",
   "metadata": {},
   "source": [
    "# 7) CHECKING ELEMENTS IN A 1-D array"
   ]
  },
  {
   "cell_type": "code",
   "execution_count": 14,
   "id": "69e98925",
   "metadata": {},
   "outputs": [
    {
     "name": "stdout",
     "output_type": "stream",
     "text": [
      "Comparing the 2 arrays: [False False False  True  True  True]\n"
     ]
    }
   ],
   "source": [
    "import numpy as np\n",
    "\n",
    "ar1=([1,2,3,4,5,6])\n",
    "ar2=([4,5,6])\n",
    "print(\"Comparing the 2 arrays:\",np.in1d(ar1,ar2))"
   ]
  },
  {
   "cell_type": "code",
   "execution_count": null,
   "id": "b097b586",
   "metadata": {},
   "outputs": [],
   "source": []
  },
  {
   "cell_type": "code",
   "execution_count": null,
   "id": "a4835672",
   "metadata": {},
   "outputs": [],
   "source": []
  },
  {
   "cell_type": "markdown",
   "id": "e9babb2c",
   "metadata": {},
   "source": [
    "# 8) INTERSECTION AND UNION OF ARRAYS"
   ]
  },
  {
   "cell_type": "code",
   "execution_count": 15,
   "id": "87a77170",
   "metadata": {},
   "outputs": [
    {
     "name": "stdout",
     "output_type": "stream",
     "text": [
      "Arrays are :\n",
      " [10, 20, 40, 50] \n",
      " [30, 20]\n",
      "Common elements are: [20]\n",
      "Union: [10 20 30 40 50]\n"
     ]
    }
   ],
   "source": [
    "import numpy as np\n",
    "a1=([10,20,40,50])\n",
    "a2=([30,20])\n",
    "print(\"Arrays are :\\n\",a1,\"\\n\",a2)\n",
    "print(\"Common elements are:\",np.intersect1d(a1,a2))\n",
    "print(\"Union:\",np.union1d(a1,a2))"
   ]
  },
  {
   "cell_type": "markdown",
   "id": "1a4f1c6e",
   "metadata": {},
   "source": [
    "# 9) Unique elements of an array"
   ]
  },
  {
   "cell_type": "code",
   "execution_count": 17,
   "id": "c8b04427",
   "metadata": {},
   "outputs": [
    {
     "name": "stdout",
     "output_type": "stream",
     "text": [
      "The array is : [10 20 10 30 20 50 50 10]\n",
      "Unique elemets are: [10 20 30 50]\n"
     ]
    }
   ],
   "source": [
    "import numpy as np\n",
    "\n",
    "my_array1=np.array([10,20,10,30,20,50,50,10])\n",
    "print(\"The array is :\",my_array1)\n",
    "print(\"Unique elemets are:\",np.unique(my_array1))"
   ]
  },
  {
   "cell_type": "markdown",
   "id": "0d4c99de",
   "metadata": {},
   "source": [
    "# 10) ARRAY TO LIST CONVERSION "
   ]
  },
  {
   "cell_type": "code",
   "execution_count": 18,
   "id": "ac56067d",
   "metadata": {},
   "outputs": [
    {
     "name": "stdout",
     "output_type": "stream",
     "text": [
      "The array is: [10 20 30 40]\n",
      "The array type is: <class 'numpy.ndarray'>\n",
      "The list is  [10, 20, 30, 40]\n",
      "The type is : <class 'type'>\n"
     ]
    }
   ],
   "source": [
    "import numpy as np\n",
    "my_array2=np.array([10,20,30,40])\n",
    "print(\"The array is:\",my_array2)\n",
    "print(\"The array type is:\",type(my_array2))\n",
    "\n",
    "list1=my_array2.tolist()\n",
    "print(\"The list is \",list1)\n",
    "print(\"The type is :\",type(list))"
   ]
  },
  {
   "cell_type": "markdown",
   "id": "4979cea0",
   "metadata": {},
   "source": [
    "# EXTRA Q 1"
   ]
  },
  {
   "cell_type": "code",
   "execution_count": 22,
   "id": "e62e38ea",
   "metadata": {},
   "outputs": [
    {
     "name": "stdout",
     "output_type": "stream",
     "text": [
      "[[1 1 0 0 1 1 0 0]\n",
      " [0 0 1 1 0 0 1 1]\n",
      " [1 1 0 0 1 1 0 0]\n",
      " [0 0 1 1 0 0 1 1]\n",
      " [1 1 0 0 1 1 0 0]\n",
      " [0 0 1 1 0 0 1 1]\n",
      " [1 1 0 0 1 1 0 0]\n",
      " [0 0 1 1 0 0 1 1]]\n"
     ]
    }
   ],
   "source": [
    "import numpy as np\n",
    "checkarr=np.zeros((8,8),dtype=int)\n",
    "checkarr[::2,::4]=1\n",
    "checkarr[::2,1::4]=1\n",
    "\n",
    "checkarr[1::2,3::4]=1\n",
    "checkarr[1::2,2::4]=1\n",
    "print(checkarr)"
   ]
  },
  {
   "cell_type": "markdown",
   "id": "644c9fe8",
   "metadata": {},
   "source": [
    "# EXTRA Q2"
   ]
  },
  {
   "cell_type": "code",
   "execution_count": 14,
   "id": "3b80f056",
   "metadata": {},
   "outputs": [
    {
     "name": "stdout",
     "output_type": "stream",
     "text": [
      "[[0 0 0 0 1 1 1 1]\n",
      " [1 1 1 1 0 0 0 0]\n",
      " [0 0 0 0 1 1 1 1]\n",
      " [1 1 1 1 0 0 0 0]\n",
      " [0 0 0 0 1 1 1 1]\n",
      " [1 1 1 1 0 0 0 0]\n",
      " [0 0 0 0 1 1 1 1]\n",
      " [1 1 1 1 0 0 0 0]]\n"
     ]
    }
   ],
   "source": [
    "import numpy as np\n",
    "checkarr=np.zeros((8,8),dtype=int)\n",
    "checkarr[::2,4::]=1\n",
    "checkarr[1::2,:4:]=1\n",
    "print(checkarr)"
   ]
  },
  {
   "cell_type": "markdown",
   "id": "d7b52026",
   "metadata": {},
   "source": [
    "#  11)Write a numpy program to get unique elements of an array"
   ]
  },
  {
   "cell_type": "code",
   "execution_count": 2,
   "id": "34bf3132",
   "metadata": {},
   "outputs": [
    {
     "name": "stdout",
     "output_type": "stream",
     "text": [
      "Original array:\n",
      "[10 10 20 20 30 30]\n",
      "Unique elements of the above array:\n",
      "[10 20 30]\n"
     ]
    }
   ],
   "source": [
    "import numpy as np\n",
    "x = np.array([10, 10, 20, 20, 30, 30])\n",
    "print(\"Original array:\")\n",
    "print(x)\n",
    "print(\"Unique elements of the above array:\")\n",
    "print(np.unique(x))\n"
   ]
  },
  {
   "cell_type": "code",
   "execution_count": null,
   "id": "735e46f4",
   "metadata": {},
   "outputs": [],
   "source": []
  }
 ],
 "metadata": {
  "kernelspec": {
   "display_name": "Python 3 (ipykernel)",
   "language": "python",
   "name": "python3"
  },
  "language_info": {
   "codemirror_mode": {
    "name": "ipython",
    "version": 3
   },
   "file_extension": ".py",
   "mimetype": "text/x-python",
   "name": "python",
   "nbconvert_exporter": "python",
   "pygments_lexer": "ipython3",
   "version": "3.9.12"
  }
 },
 "nbformat": 4,
 "nbformat_minor": 5
}
