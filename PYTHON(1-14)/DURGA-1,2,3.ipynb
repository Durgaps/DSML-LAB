{
 "cells": [
  {
   "cell_type": "markdown",
   "id": "f38b371a",
   "metadata": {},
   "source": [
    "# PRIME NUMBERS"
   ]
  },
  {
   "cell_type": "code",
   "execution_count": 3,
   "id": "68e0f928",
   "metadata": {},
   "outputs": [
    {
     "name": "stdout",
     "output_type": "stream",
     "text": [
      "Enter the number:21\n",
      "NOT PRIME\n"
     ]
    }
   ],
   "source": [
    "num=int(input(\"Enter the number:\"))\n",
    "if num==1:\n",
    "    print(\"1 is neither prime nor composite!!\")\n",
    "else:\n",
    "    count=0\n",
    "    i=1\n",
    "    while i<=num:\n",
    "        if num%i==0:\n",
    "            count=count+1\n",
    "        i=i+1\n",
    "    if count==2:\n",
    "        print(\"PRIME\")\n",
    "    else :\n",
    "        print(\"NOT PRIME\")"
   ]
  },
  {
   "cell_type": "code",
   "execution_count": null,
   "id": "2d88cbb9",
   "metadata": {},
   "outputs": [],
   "source": []
  },
  {
   "cell_type": "markdown",
   "id": "01cbebd6",
   "metadata": {},
   "source": [
    "# REMOVING ALL OCCURENCE OF A SPECIFIC VALUE IN A LIST"
   ]
  },
  {
   "cell_type": "code",
   "execution_count": 20,
   "id": "d751ce07",
   "metadata": {},
   "outputs": [
    {
     "name": "stdout",
     "output_type": "stream",
     "text": [
      "ENter the no.of elements to enter into the list:6\n",
      "Enter 6 no.of elemets into the list:\n",
      "10\n",
      "20\n",
      "1\n",
      "1\n",
      "2\n",
      "10\n",
      "The list is: ['10', '20', '1', '1', '2', '10']\n",
      "Enter the value to remove:10\n",
      "List after removal: ['20', '1', '1', '2']\n"
     ]
    }
   ],
   "source": [
    "list1=[]\n",
    "limit=int(input(\"ENter the no.of elements to enter into the list:\"))\n",
    "print(\"Enter\",limit,\"no.of elemets into the list:\")\n",
    "for i in range(limit):\n",
    "    val=input()\n",
    "    list1.append(val)\n",
    "print(\"The list is:\",list1)\n",
    "\n",
    "del_val=input(\"Enter the value to remove:\")\n",
    "count1=list1.count(del_val)\n",
    "\n",
    "for i in range(count1):\n",
    "        list1.remove(del_val)\n",
    "print(\"List after removal:\",list1)\n",
    "list1=[]\n",
    "    "
   ]
  },
  {
   "cell_type": "markdown",
   "id": "80207eef",
   "metadata": {},
   "source": [
    "\n",
    "# COUNT THE NO.OF OCCURENCES OF A WORD IN A LINE OF TEXT"
   ]
  },
  {
   "cell_type": "code",
   "execution_count": 1,
   "id": "12886ddd",
   "metadata": {},
   "outputs": [
    {
     "name": "stdout",
     "output_type": "stream",
     "text": [
      "ENter the string:good morning good night good evening\n",
      "['good', 'morning', 'good', 'night', 'good', 'evening']\n",
      "ENter the word to count:good\n",
      "The word good occures 3 times in the string\n"
     ]
    }
   ],
   "source": [
    "str=input(\"ENter the string:\")\n",
    "\n",
    "list2=str.split(\" \")\n",
    "print(list2)\n",
    "\n",
    "wc=input(\"ENter the word to count:\")\n",
    "count2=0\n",
    "for i in list2:\n",
    "    if i==wc:\n",
    "        count2=count2+1\n",
    "print(\"The word\",wc,\"occures\",count2,\"times in the string\")"
   ]
  },
  {
   "cell_type": "code",
   "execution_count": null,
   "id": "cf4a468f",
   "metadata": {},
   "outputs": [],
   "source": []
  }
 ],
 "metadata": {
  "kernelspec": {
   "display_name": "Python 3 (ipykernel)",
   "language": "python",
   "name": "python3"
  },
  "language_info": {
   "codemirror_mode": {
    "name": "ipython",
    "version": 3
   },
   "file_extension": ".py",
   "mimetype": "text/x-python",
   "name": "python",
   "nbconvert_exporter": "python",
   "pygments_lexer": "ipython3",
   "version": "3.9.12"
  }
 },
 "nbformat": 4,
 "nbformat_minor": 5
}
