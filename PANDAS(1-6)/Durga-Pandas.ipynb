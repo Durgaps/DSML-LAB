{
 "cells": [
  {
   "cell_type": "markdown",
   "id": "36383feb",
   "metadata": {},
   "source": [
    "# 1. Write a Pandas program to create and display a one-dimensional array"
   ]
  },
  {
   "cell_type": "code",
   "execution_count": 9,
   "id": "b5adeedb",
   "metadata": {},
   "outputs": [
    {
     "name": "stdout",
     "output_type": "stream",
     "text": [
      "[1, 2, 3, 4, 5, 6] \n",
      "\n",
      "0    1\n",
      "1    2\n",
      "2    3\n",
      "3    4\n",
      "4    5\n",
      "5    6\n",
      "dtype: int64\n"
     ]
    }
   ],
   "source": [
    "import pandas as pd\n",
    "array1=[1,2,3,4,5,6]\n",
    "print(array1,\"\\n\")\n",
    "ser=pd.Series(array1)\n",
    "print(ser)"
   ]
  },
  {
   "cell_type": "markdown",
   "id": "181f5d55",
   "metadata": {},
   "source": [
    "# .Write a Pandas program to add, subtract, multiply and divide two Pandas Series"
   ]
  },
  {
   "cell_type": "code",
   "execution_count": 8,
   "id": "63d00ec2",
   "metadata": {},
   "outputs": [
    {
     "name": "stdout",
     "output_type": "stream",
     "text": [
      "The sum is:\n",
      " 0    11\n",
      "1    10\n",
      "2     9\n",
      "3     8\n",
      "4    10\n",
      "dtype: int64\n",
      "The  difference is:\n",
      " 0   -9\n",
      "1   -6\n",
      "2   -3\n",
      "3    0\n",
      "4    0\n",
      "dtype: int64\n",
      "The product is:\n",
      " 0    10\n",
      "1    16\n",
      "2    18\n",
      "3    16\n",
      "4    25\n",
      "dtype: int64\n",
      "The quotients are:\n",
      " 0    10.0\n",
      "1     4.0\n",
      "2     2.0\n",
      "3     1.0\n",
      "4     1.0\n",
      "dtype: float64\n"
     ]
    }
   ],
   "source": [
    "import pandas as pd\n",
    "s1=pd.Series([1,2,3,4,5])\n",
    "s2=pd.Series([10,8,6,4,5])\n",
    "Ssum=s1+s2\n",
    "Ssub=s1-s2\n",
    "Sdiv=s2/s1\n",
    "Spro=s1*s2\n",
    "\n",
    "print(\"The sum is:\\n\",Ssum)\n",
    "\n",
    "print(\"The  difference is:\\n\",Ssub)\n",
    "\n",
    "print(\"The product is:\\n\",Spro)\n",
    "\n",
    "print(\"The quotients are:\\n\",Sdiv)"
   ]
  },
  {
   "cell_type": "markdown",
   "id": "659b3d47",
   "metadata": {},
   "source": [
    "# write a panda program to create a single dataframe and save it as a csv file"
   ]
  },
  {
   "cell_type": "code",
   "execution_count": 15,
   "id": "0b8618a1",
   "metadata": {},
   "outputs": [
    {
     "name": "stdout",
     "output_type": "stream",
     "text": [
      "         weight  height\n",
      "Durga        55     155\n",
      "Eldhose      40     160\n",
      "Savitha      60     165\n"
     ]
    }
   ],
   "source": [
    "import pandas as pd\n",
    "\n",
    "diet={\"weight\":[55,40,60],\"height\":[155,160,165]}\n",
    "df=pd.DataFrame(diet,index=[\"Durga\",\"Eldhose\",\"Savitha\"])\n",
    "print(df)\n",
    "df.to_csv(\"prgm2.csv\")\n"
   ]
  },
  {
   "cell_type": "markdown",
   "id": "a896fc5f",
   "metadata": {},
   "source": [
    "# Write a Pandas program to create and display a DataFrame from a specified dictionary data\n",
    "(10 records) \n",
    "\n",
    "which has the fields 1)name 2)Score 3)Attempts 4)Qualify\n",
    "\n",
    "a)select the 'name' and ‘qualify’ columns from the following DataFrame\n",
    "b)select the rows where the number of attempts in the examination is greater than 2\n",
    "c)count the number of rows and columns of the DataFrame\n",
    "d)Number of attempts in the examination is less than 2 and score greater than 10\n",
    "\n",
    "e)select rows where score are missing\n"
   ]
  },
  {
   "cell_type": "code",
   "execution_count": 46,
   "id": "541f2553",
   "metadata": {},
   "outputs": [
    {
     "name": "stdout",
     "output_type": "stream",
     "text": [
      "  name  Score qualify  Attempts\n",
      "0    a   10.0      no         1\n",
      "1    b   20.0     yes         1\n",
      "2    c    NaN     yes         1\n",
      "3    d   20.0     yes         1\n",
      "4    e   11.0      no         2\n",
      "5    f   12.0      no         1\n",
      "6    g   15.0     yes         2\n",
      "7    h   13.0      no         1\n",
      "8    i   12.0      no         3\n",
      "9    j   10.0      no         1 \n",
      "\n",
      "  name qualify\n",
      "0    a      no\n",
      "1    b     yes\n",
      "2    c     yes\n",
      "3    d     yes\n",
      "4    e      no\n",
      "5    f      no\n",
      "6    g     yes\n",
      "7    h      no\n",
      "8    i      no\n",
      "9    j      no \n",
      "\n",
      "  name  Score qualify  Attempts\n",
      "8    i   12.0      no         3 \n",
      "\n",
      "No.of rows: 10 \n",
      "\n",
      "No.of columns: 4 \n",
      "\n",
      "  name  Score qualify  Attempts\n",
      "1    b   20.0     yes         1\n",
      "3    d   20.0     yes         1 \n",
      "\n",
      "  name  Score qualify  Attempts\n",
      "2    c    NaN     yes         1\n"
     ]
    }
   ],
   "source": [
    "import pandas as pd\n",
    "import numpy as np\n",
    "\n",
    "data={\"name\":['a','b','c','d','e','f','g','h','i','j'],\n",
    "      \"Score\":[10,20,np.nan,20,11,12,15,13,12,10],\n",
    "     \"qualify\":[\"no\",\"yes\",\"yes\",\"yes\",\"no\",\"no\",\"yes\",\"no\",\"no\",\"no\"],\n",
    "      \"Attempts\":[1,1,1,1,2,1,2,1,3,1]\n",
    "     }\n",
    "df2=pd.DataFrame(data)\n",
    "print(df2,\"\\n\")\n",
    "\n",
    "#a)\n",
    "\n",
    "print(df2[['name','qualify']],\"\\n\")\n",
    "\n",
    "#b)\n",
    "\n",
    "print(df2[df2['Attempts']>2],\"\\n\")\n",
    "\n",
    "#c)\n",
    "\n",
    "print(\"No.of rows:\",len(df2.axes[0]),\"\\n\")\n",
    "\n",
    "print(\"No.of columns:\",len(df2.axes[1]),\"\\n\")\n",
    "\n",
    "#d)\n",
    "\n",
    "print(df2[(df2['Attempts']<2)&(df2['Score']>15)],\"\\n\")\n",
    "\n",
    "#e)\n",
    "\n",
    "print(df2[df2['Score'].isnull()])\n",
    "\n"
   ]
  },
  {
   "cell_type": "markdown",
   "id": "4a63834e",
   "metadata": {},
   "source": [
    "# 5.Write a pandas program to create a dataframe(6 records) which has the fields id,name,age,degree,cgpa\n",
    "a)insert a new column ‘class’ into the dataframe and populate values\n",
    "b)Find out total no.of columns in the dataframe\n",
    "c)select top 3 rows ,last 4 rows\n",
    "d)delete all rows which have null values\n",
    "e)drop ‘id’ column\n",
    "f)select name,cgpa from 2 to 5 records\n",
    "g)fill null values in the age column with mean value\n"
   ]
  },
  {
   "cell_type": "code",
   "execution_count": 34,
   "id": "b3d5c2d6",
   "metadata": {},
   "outputs": [
    {
     "name": "stdout",
     "output_type": "stream",
     "text": [
      "    id   name   age degree  cgpa\n",
      "0  101   Lucy  25.0    BCA   8.2\n",
      "1  102   Mary   NaN    BCA   7.5\n",
      "2  103    Sam  22.0    MCA   8.6\n",
      "3  104   Troy  23.0    MCA   9.8\n",
      "4  105   Binu  22.0    BCA   7.6\n",
      "5  106  Rakhi  22.0    MCA   6.0 \n",
      "\n",
      "\n",
      "    id   name   age degree  cgpa class\n",
      "0  101   Lucy  25.0    BCA   8.2   1st\n",
      "1  102   Mary   NaN    BCA   7.5   2nd\n",
      "2  103    Sam  22.0    MCA   8.6   3rd\n",
      "3  104   Troy  23.0    MCA   9.8   1st\n",
      "4  105   Binu  22.0    BCA   7.6   2nd\n",
      "5  106  Rakhi  22.0    MCA   6.0   1st \n",
      "\n",
      "Total no.of columns: 6 \n",
      "\n",
      "\n",
      "First 3 rows are:\n",
      "     id  name   age degree  cgpa class\n",
      "0  101  Lucy  25.0    BCA   8.2   1st\n",
      "1  102  Mary   NaN    BCA   7.5   2nd\n",
      "2  103   Sam  22.0    MCA   8.6   3rd\n",
      "\n",
      "Last 4 rows are:\n",
      "     id   name   age degree  cgpa class\n",
      "2  103    Sam  22.0    MCA   8.6   3rd\n",
      "3  104   Troy  23.0    MCA   9.8   1st\n",
      "4  105   Binu  22.0    BCA   7.6   2nd\n",
      "5  106  Rakhi  22.0    MCA   6.0   1st\n",
      "\n",
      "Dataframe after deleting rows with null values:\n",
      "\n",
      "     id   name   age degree  cgpa class\n",
      "0  101   Lucy  25.0    BCA   8.2   1st\n",
      "2  103    Sam  22.0    MCA   8.6   3rd\n",
      "3  104   Troy  23.0    MCA   9.8   1st\n",
      "4  105   Binu  22.0    BCA   7.6   2nd\n",
      "5  106  Rakhi  22.0    MCA   6.0   1st\n",
      "\n",
      " Dataframe after dropping the id column:\n",
      "     name   age degree  cgpa class\n",
      "0   Lucy  25.0    BCA   8.2   1st\n",
      "2    Sam  22.0    MCA   8.6   3rd\n",
      "3   Troy  23.0    MCA   9.8   1st\n",
      "4   Binu  22.0    BCA   7.6   2nd\n",
      "5  Rakhi  22.0    MCA   6.0   1st\n",
      "\n",
      "     name  cgpa\n",
      "2    Sam   8.6\n",
      "3   Troy   9.8\n",
      "4   Binu   7.6\n",
      "5  Rakhi   6.0 \n",
      "\n",
      "    name   age degree  cgpa class\n",
      "0   Lucy  25.0    BCA   8.2   1st\n",
      "2    Sam  22.0    MCA   8.6   3rd\n",
      "3   Troy   NaN    MCA   9.8   1st\n",
      "4   Binu   NaN    BCA   7.6   2nd\n",
      "5  Rakhi  22.0    MCA   6.0   1st\n",
      "\n",
      "The mean is: 23.0\n",
      "\n",
      " Dataframe after filling null values with the mean:\n",
      "     name   age degree cgpa class\n",
      "0   Lucy  25.0    BCA  8.2   1st\n",
      "2    Sam  22.0    MCA  8.6   3rd\n",
      "3   Troy  23.0    MCA  9.8   1st\n",
      "4   Binu  23.0    BCA  7.6   2nd\n",
      "5  Rakhi  22.0    MCA  6.0   1st\n"
     ]
    }
   ],
   "source": [
    "import pandas as pd\n",
    "import numpy as np\n",
    "\n",
    "dict1={\"id\":[101,102,103,104,105,106],\n",
    "      \"name\":[\"Lucy\",\"Mary\",\"Sam\",\"Troy\",\"Binu\",\"Rakhi\"],\n",
    "      \"age\":[25,np.nan,22,23,22,22],\n",
    "      \"degree\":[\"BCA\",\"BCA\",\"MCA\",\"MCA\",\"BCA\",\"MCA\"],\n",
    "      \"cgpa\":[8.2,7.5,8.6,9.8,7.6,6.0],\n",
    "      }\n",
    "#print(dict1)\n",
    "frame1=pd.DataFrame(dict1)\n",
    "print(frame1,\"\\n\\n\")\n",
    "\n",
    "#INSERTING NEW COLUMN \"Class\"\n",
    "\n",
    "class1=[\"1st\",\"2nd\",\"3rd\",\"1st\",\"2nd\",\"1st\"]\n",
    "frame1[\"class\"]=class1\n",
    "print(frame1,\"\\n\")\n",
    "\n",
    "#Printing no.of colums\n",
    "\n",
    "print(\"Total no.of columns:\",len(frame1.axes[1]),\"\\n\")\n",
    "\n",
    "#First 3 rows and last 4 rows\n",
    "\n",
    "print(\"\\nFirst 3 rows are:\\n\",frame1.head(n=3))\n",
    "print(\"\\nLast 4 rows are:\\n\",frame1.tail(n=4))\n",
    "\n",
    "#delete rows with null values\n",
    "\n",
    "frame1=frame1.dropna()\n",
    "print(\"\\nDataframe after deleting rows with null values:\\n\\n\",frame1)\n",
    "\n",
    "\n",
    "#dropping the column \"id\"\n",
    "\n",
    "frame1=frame1.drop(columns=[\"id\"])\n",
    "print(\"\\n Dataframe after dropping the id column:\\n\",frame1)\n",
    "\n",
    "#name,cgpa from 2-5 records\n",
    "\n",
    "print(\"\\n\",frame1.loc[2:5,['name','cgpa']],\"\\n\")\n",
    "\n",
    "#Filling the null values with the mean of ages\n",
    "\n",
    "frame1.iloc[2:4,1:2]=np.nan\n",
    "print(frame1)\n",
    "\n",
    "mean_val=frame1['age'].mean()\n",
    "print(\"\\nThe mean is:\",mean_val)\n",
    "\n",
    "frame1.fillna(value=mean_val,axis=1,inplace=True)\n",
    "print(\"\\n Dataframe after filling null values with the mean:\\n\",frame1)\n",
    "\n"
   ]
  },
  {
   "cell_type": "code",
   "execution_count": 40,
   "id": "1e2753ec",
   "metadata": {},
   "outputs": [
    {
     "name": "stdout",
     "output_type": "stream",
     "text": [
      "Index(['name', 'age', 'degree', 'cgpa', 'class'], dtype='object')\n"
     ]
    }
   ],
   "source": [
    "print(frame1.axes[1])"
   ]
  },
  {
   "cell_type": "code",
   "execution_count": null,
   "id": "622b4c36",
   "metadata": {},
   "outputs": [],
   "source": []
  }
 ],
 "metadata": {
  "kernelspec": {
   "display_name": "Python 3 (ipykernel)",
   "language": "python",
   "name": "python3"
  },
  "language_info": {
   "codemirror_mode": {
    "name": "ipython",
    "version": 3
   },
   "file_extension": ".py",
   "mimetype": "text/x-python",
   "name": "python",
   "nbconvert_exporter": "python",
   "pygments_lexer": "ipython3",
   "version": "3.9.12"
  }
 },
 "nbformat": 4,
 "nbformat_minor": 5
}
