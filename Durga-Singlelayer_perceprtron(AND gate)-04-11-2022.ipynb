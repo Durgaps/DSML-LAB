{
 "cells": [
  {
   "cell_type": "markdown",
   "id": "efc94d14",
   "metadata": {},
   "source": [
    "# Import the perceptron AND GATE"
   ]
  },
  {
   "cell_type": "code",
   "execution_count": 2,
   "id": "653ceb57",
   "metadata": {},
   "outputs": [],
   "source": [
    "from sklearn.linear_model import Perceptron"
   ]
  },
  {
   "cell_type": "code",
   "execution_count": 3,
   "id": "02dd0b4c",
   "metadata": {},
   "outputs": [],
   "source": [
    "x_train=[[0,0],[0,1],[1,0],[1,1]]\n",
    "y_train=[0,0,0,1]"
   ]
  },
  {
   "cell_type": "markdown",
   "id": "dc31a939",
   "metadata": {},
   "source": [
    "# Model Creation"
   ]
  },
  {
   "cell_type": "code",
   "execution_count": 4,
   "id": "9d236de0",
   "metadata": {},
   "outputs": [
    {
     "data": {
      "text/plain": [
       "Perceptron()"
      ]
     },
     "execution_count": 4,
     "metadata": {},
     "output_type": "execute_result"
    }
   ],
   "source": [
    "classifier=Perceptron(tol=1e-3,random_state=0)\n",
    "classifier.fit(x_train,y_train)"
   ]
  },
  {
   "cell_type": "markdown",
   "id": "0951dc49",
   "metadata": {},
   "source": [
    "# prediction"
   ]
  },
  {
   "cell_type": "code",
   "execution_count": 6,
   "id": "71a252ec",
   "metadata": {},
   "outputs": [],
   "source": [
    "y_pred=classifier.predict(x_train)"
   ]
  },
  {
   "cell_type": "code",
   "execution_count": 7,
   "id": "fa080642",
   "metadata": {},
   "outputs": [
    {
     "name": "stdout",
     "output_type": "stream",
     "text": [
      "[0 0 0 1]\n",
      "[[2. 2.]] [-2.]\n"
     ]
    }
   ],
   "source": [
    "print(y_pred)\n",
    "print(classifier.coef_,classifier.intercept_)"
   ]
  }
 ],
 "metadata": {
  "kernelspec": {
   "display_name": "Python 3 (ipykernel)",
   "language": "python",
   "name": "python3"
  },
  "language_info": {
   "codemirror_mode": {
    "name": "ipython",
    "version": 3
   },
   "file_extension": ".py",
   "mimetype": "text/x-python",
   "name": "python",
   "nbconvert_exporter": "python",
   "pygments_lexer": "ipython3",
   "version": "3.9.12"
  }
 },
 "nbformat": 4,
 "nbformat_minor": 5
}
