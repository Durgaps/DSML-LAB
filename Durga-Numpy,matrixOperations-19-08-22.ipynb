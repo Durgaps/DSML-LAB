{
 "cells": [
  {
   "cell_type": "markdown",
   "id": "642ad3bd",
   "metadata": {},
   "source": [
    "## NAME :DURGA PS\n",
    "## Exp No : 2\n",
    "## Exp Name : Numpt matrix operations-2\n",
    "## Experiment completed on :19-08-2022"
   ]
  },
  {
   "cell_type": "markdown",
   "id": "1ae22e03",
   "metadata": {},
   "source": [
    "# 12)Write a program to convert numpy array to python list structure\n"
   ]
  },
  {
   "cell_type": "code",
   "execution_count": null,
   "id": "4fcb356e",
   "metadata": {},
   "outputs": [],
   "source": []
  },
  {
   "cell_type": "code",
   "execution_count": 1,
   "id": "718b0354",
   "metadata": {},
   "outputs": [
    {
     "name": "stdout",
     "output_type": "stream",
     "text": [
      "Original array elements:\n",
      "[[0 1]\n",
      " [2 3]\n",
      " [4 5]]\n",
      "Array to list:\n",
      "[[0, 1], [2, 3], [4, 5]]\n"
     ]
    }
   ],
   "source": [
    "import numpy as np\n",
    "x= np.arange(6).reshape(3, 2)\n",
    "print(\"Original array elements:\")\n",
    "print(x)\n",
    "print(\"Array to list:\")\n",
    "print(x.tolist())"
   ]
  },
  {
   "cell_type": "markdown",
   "id": "174f43d1",
   "metadata": {},
   "source": [
    "# 13 ) ACCESS AN ARRAY BY COLUMN"
   ]
  },
  {
   "cell_type": "code",
   "execution_count": 10,
   "id": "292cd399",
   "metadata": {},
   "outputs": [
    {
     "name": "stdout",
     "output_type": "stream",
     "text": [
      "[[11 12]\n",
      " [13 14]\n",
      " [15 16]\n",
      " [17 18]\n",
      " [19 20]] \n",
      "\n",
      "\n",
      "First column: [11 13 15 17 19]\n",
      "Second column: [12 14 16 18 20]\n"
     ]
    }
   ],
   "source": [
    "import numpy as np\n",
    "\n",
    "array1=np.arange(11,21).reshape(5,2)\n",
    "print(array1,\"\\n\\n\")\n",
    "\n",
    "#accesing the colum 2\n",
    "\n",
    "print(\"First column:\",array1[:,0])\n",
    "\n",
    "print(\"Second column:\",array1[:,1])"
   ]
  },
  {
   "cell_type": "markdown",
   "id": "a2ebf328",
   "metadata": {},
   "source": [
    "# 14) MATRIX MULTIPLICATION AND  ADDITION"
   ]
  },
  {
   "cell_type": "code",
   "execution_count": 2,
   "id": "ac01d600",
   "metadata": {},
   "outputs": [
    {
     "name": "stdout",
     "output_type": "stream",
     "text": [
      "First matrix: \n",
      "\n",
      " [[1 2 3]\n",
      " [4 5 6]\n",
      " [7 8 9]]\n",
      "\n",
      "Second matrix: \n",
      "\n",
      " [[11 12 13]\n",
      " [14 15 16]\n",
      " [17 18 19]]\n",
      "\n",
      "The resultant multiplied matrix:\n",
      "\n",
      " [[ 90  96 102]\n",
      " [216 231 246]\n",
      " [342 366 390]]\n",
      "\n",
      "The addition of the abpve matrices:\n",
      "\n",
      " [[12 14 16]\n",
      " [18 20 22]\n",
      " [24 26 28]]\n"
     ]
    }
   ],
   "source": [
    "import numpy as np\n",
    "\n",
    "matrix1=np.arange(1,10).reshape(3,3)\n",
    "matrix2=np.arange(11,20).reshape(3,3)\n",
    "\n",
    "print(\"First matrix: \\n\\n\",matrix1)\n",
    "print(\"\\nSecond matrix: \\n\\n\",matrix2)\n",
    "\n",
    "matrix3=np.dot(matrix1,matrix2)\n",
    "\n",
    "matrix4=np.add(matrix1,matrix2)\n",
    "\n",
    "print(\"\\nThe resultant multiplied matrix:\\n\\n\",matrix3)\n",
    "\n",
    "print(\"\\nThe addition of the abpve matrices:\\n\\n\",matrix4)\n"
   ]
  },
  {
   "cell_type": "markdown",
   "id": "dad1cb1e",
   "metadata": {},
   "source": [
    "# 15) EIGEN VALUES AND EIGEN VECTORS"
   ]
  },
  {
   "cell_type": "code",
   "execution_count": 22,
   "id": "17f3d04f",
   "metadata": {},
   "outputs": [
    {
     "name": "stdout",
     "output_type": "stream",
     "text": [
      "Eigenvalues are: [4. 1.]\n",
      "EIgen vectors are:\n",
      "\n",
      " [[ 0.70710678 -0.4472136 ]\n",
      " [ 0.70710678  0.89442719]]\n"
     ]
    }
   ],
   "source": [
    "import numpy as np\n",
    "\n",
    "a = np.array([[3, 1], [2, 2]])\n",
    "w, v = np.linalg.eig(a)\n",
    "\n",
    "print(\"Eigenvalues are:\",w)\n",
    "print(\"EIgen vectors are:\\n\\n\",v)"
   ]
  },
  {
   "cell_type": "markdown",
   "id": "ffe0bfbe",
   "metadata": {},
   "source": [
    "# 16) DETERMINANT ,INVERSE AND TRANSPOSEOF A MATRIX"
   ]
  },
  {
   "cell_type": "code",
   "execution_count": 37,
   "id": "ecd3d9a8",
   "metadata": {},
   "outputs": [
    {
     "name": "stdout",
     "output_type": "stream",
     "text": [
      "The original matrix is :\n",
      "\n",
      " [[50 29]\n",
      " [30 44]]\n",
      "\n",
      "DETERMINANT IS:\n",
      " 1330\n",
      "\n",
      "TRANSPOSE:\n",
      " [[50 30]\n",
      " [29 44]]\n",
      "\n",
      "INVESRSE:\n",
      " [[ 0.03308271 -0.02180451]\n",
      " [-0.02255639  0.03759398]]\n"
     ]
    }
   ],
   "source": [
    "import numpy as np\n",
    "\n",
    "my_array=np.array([[50,29],[30,44]]).reshape(2,2)\n",
    "print(\"The original matrix is :\\n\\n\",my_array)\n",
    "x=np.linalg.det(my_array)\n",
    "print(\"\\nDETERMINANT IS:\\n\",int(x))\n",
    "\n",
    "print(\"\\nTRANSPOSE:\\n\",np.transpose(my_array))\n",
    "\n",
    "print(\"\\nINVESRSE:\\n\",np.linalg.inv(my_array))"
   ]
  },
  {
   "cell_type": "markdown",
   "id": "45fd8428",
   "metadata": {},
   "source": []
  }
 ],
 "metadata": {
  "kernelspec": {
   "display_name": "Python 3 (ipykernel)",
   "language": "python",
   "name": "python3"
  },
  "language_info": {
   "codemirror_mode": {
    "name": "ipython",
    "version": 3
   },
   "file_extension": ".py",
   "mimetype": "text/x-python",
   "name": "python",
   "nbconvert_exporter": "python",
   "pygments_lexer": "ipython3",
   "version": "3.9.12"
  }
 },
 "nbformat": 4,
 "nbformat_minor": 5
}
